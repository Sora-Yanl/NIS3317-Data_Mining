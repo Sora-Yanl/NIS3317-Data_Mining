{
 "cells": [
  {
   "cell_type": "code",
   "execution_count": 1,
   "metadata": {},
   "outputs": [],
   "source": [
    "# 导入必要的库\n",
    "import pandas as pd\n",
    "import numpy as np\n",
    "from sklearn.model_selection import train_test_split\n",
    "from sklearn.preprocessing import LabelEncoder, StandardScaler\n",
    "from sklearn.ensemble import RandomForestClassifier\n",
    "from sklearn.metrics import classification_report, accuracy_score\n"
   ]
  },
  {
   "cell_type": "code",
   "execution_count": 2,
   "metadata": {},
   "outputs": [],
   "source": [
    "# 加载数据\n",
    "data = pd.read_csv('new_output.csv')\n",
    "\n",
    "# 数据预处理\n",
    "# 删除不用于预测的列\n",
    "data = data.drop(columns=['jobSalaryMax', 'jobSalaryMin', 'term', 'salary_max_range'])\n",
    "\n",
    "# 编码分类特征\n",
    "label_encoders = {}\n",
    "categorical_features = ['jobType', 'workAreaCode', 'degree', 'industryType1', 'companyType', 'companySizeCode']\n",
    "for feature in categorical_features:\n",
    "    label_encoders[feature] = LabelEncoder()\n",
    "    data[feature] = label_encoders[feature].fit_transform(data[feature])\n",
    "\n",
    "# 准备目标变量\n",
    "y_max = data['jobSalaryMaxLevel']\n",
    "y_min = data['jobSalaryMinLevel']\n",
    "\n",
    "# 准备特征变量\n",
    "X = data.drop(columns=['jobSalaryMaxLevel', 'jobSalaryMinLevel'])\n",
    "\n",
    "# 标准化特征\n",
    "scaler = StandardScaler()\n",
    "X = scaler.fit_transform(X)"
   ]
  },
  {
   "cell_type": "code",
   "execution_count": 3,
   "metadata": {},
   "outputs": [
    {
     "data": {
      "text/html": [
       "<style>#sk-container-id-1 {color: black;}#sk-container-id-1 pre{padding: 0;}#sk-container-id-1 div.sk-toggleable {background-color: white;}#sk-container-id-1 label.sk-toggleable__label {cursor: pointer;display: block;width: 100%;margin-bottom: 0;padding: 0.3em;box-sizing: border-box;text-align: center;}#sk-container-id-1 label.sk-toggleable__label-arrow:before {content: \"▸\";float: left;margin-right: 0.25em;color: #696969;}#sk-container-id-1 label.sk-toggleable__label-arrow:hover:before {color: black;}#sk-container-id-1 div.sk-estimator:hover label.sk-toggleable__label-arrow:before {color: black;}#sk-container-id-1 div.sk-toggleable__content {max-height: 0;max-width: 0;overflow: hidden;text-align: left;background-color: #f0f8ff;}#sk-container-id-1 div.sk-toggleable__content pre {margin: 0.2em;color: black;border-radius: 0.25em;background-color: #f0f8ff;}#sk-container-id-1 input.sk-toggleable__control:checked~div.sk-toggleable__content {max-height: 200px;max-width: 100%;overflow: auto;}#sk-container-id-1 input.sk-toggleable__control:checked~label.sk-toggleable__label-arrow:before {content: \"▾\";}#sk-container-id-1 div.sk-estimator input.sk-toggleable__control:checked~label.sk-toggleable__label {background-color: #d4ebff;}#sk-container-id-1 div.sk-label input.sk-toggleable__control:checked~label.sk-toggleable__label {background-color: #d4ebff;}#sk-container-id-1 input.sk-hidden--visually {border: 0;clip: rect(1px 1px 1px 1px);clip: rect(1px, 1px, 1px, 1px);height: 1px;margin: -1px;overflow: hidden;padding: 0;position: absolute;width: 1px;}#sk-container-id-1 div.sk-estimator {font-family: monospace;background-color: #f0f8ff;border: 1px dotted black;border-radius: 0.25em;box-sizing: border-box;margin-bottom: 0.5em;}#sk-container-id-1 div.sk-estimator:hover {background-color: #d4ebff;}#sk-container-id-1 div.sk-parallel-item::after {content: \"\";width: 100%;border-bottom: 1px solid gray;flex-grow: 1;}#sk-container-id-1 div.sk-label:hover label.sk-toggleable__label {background-color: #d4ebff;}#sk-container-id-1 div.sk-serial::before {content: \"\";position: absolute;border-left: 1px solid gray;box-sizing: border-box;top: 0;bottom: 0;left: 50%;z-index: 0;}#sk-container-id-1 div.sk-serial {display: flex;flex-direction: column;align-items: center;background-color: white;padding-right: 0.2em;padding-left: 0.2em;position: relative;}#sk-container-id-1 div.sk-item {position: relative;z-index: 1;}#sk-container-id-1 div.sk-parallel {display: flex;align-items: stretch;justify-content: center;background-color: white;position: relative;}#sk-container-id-1 div.sk-item::before, #sk-container-id-1 div.sk-parallel-item::before {content: \"\";position: absolute;border-left: 1px solid gray;box-sizing: border-box;top: 0;bottom: 0;left: 50%;z-index: -1;}#sk-container-id-1 div.sk-parallel-item {display: flex;flex-direction: column;z-index: 1;position: relative;background-color: white;}#sk-container-id-1 div.sk-parallel-item:first-child::after {align-self: flex-end;width: 50%;}#sk-container-id-1 div.sk-parallel-item:last-child::after {align-self: flex-start;width: 50%;}#sk-container-id-1 div.sk-parallel-item:only-child::after {width: 0;}#sk-container-id-1 div.sk-dashed-wrapped {border: 1px dashed gray;margin: 0 0.4em 0.5em 0.4em;box-sizing: border-box;padding-bottom: 0.4em;background-color: white;}#sk-container-id-1 div.sk-label label {font-family: monospace;font-weight: bold;display: inline-block;line-height: 1.2em;}#sk-container-id-1 div.sk-label-container {text-align: center;}#sk-container-id-1 div.sk-container {/* jupyter's `normalize.less` sets `[hidden] { display: none; }` but bootstrap.min.css set `[hidden] { display: none !important; }` so we also need the `!important` here to be able to override the default hidden behavior on the sphinx rendered scikit-learn.org. See: https://github.com/scikit-learn/scikit-learn/issues/21755 */display: inline-block !important;position: relative;}#sk-container-id-1 div.sk-text-repr-fallback {display: none;}</style><div id=\"sk-container-id-1\" class=\"sk-top-container\"><div class=\"sk-text-repr-fallback\"><pre>RandomForestClassifier(random_state=42)</pre><b>In a Jupyter environment, please rerun this cell to show the HTML representation or trust the notebook. <br />On GitHub, the HTML representation is unable to render, please try loading this page with nbviewer.org.</b></div><div class=\"sk-container\" hidden><div class=\"sk-item\"><div class=\"sk-estimator sk-toggleable\"><input class=\"sk-toggleable__control sk-hidden--visually\" id=\"sk-estimator-id-1\" type=\"checkbox\" checked><label for=\"sk-estimator-id-1\" class=\"sk-toggleable__label sk-toggleable__label-arrow\">RandomForestClassifier</label><div class=\"sk-toggleable__content\"><pre>RandomForestClassifier(random_state=42)</pre></div></div></div></div></div>"
      ],
      "text/plain": [
       "RandomForestClassifier(random_state=42)"
      ]
     },
     "execution_count": 3,
     "metadata": {},
     "output_type": "execute_result"
    }
   ],
   "source": [
    "# 训练集和测试集划分\n",
    "X_train, X_test, y_train_max, y_test_max, y_train_min, y_test_min = train_test_split(\n",
    "    X, y_max, y_min, test_size=0.2, random_state=42)\n",
    "\n",
    "# 构建随机森林模型\n",
    "rf_max = RandomForestClassifier(n_estimators=100, random_state=42)\n",
    "rf_min = RandomForestClassifier(n_estimators=100, random_state=42)\n",
    "\n",
    "# 训练模型\n",
    "rf_max.fit(X_train, y_train_max)\n",
    "rf_min.fit(X_train, y_train_min)"
   ]
  },
  {
   "cell_type": "code",
   "execution_count": 4,
   "metadata": {},
   "outputs": [
    {
     "name": "stdout",
     "output_type": "stream",
     "text": [
      "Classification Report for jobSalaryMaxLevel:\n",
      "               precision    recall  f1-score   support\n",
      "\n",
      "           1       0.78      0.79      0.78       384\n",
      "           2       0.61      0.66      0.63       305\n",
      "           3       0.87      0.82      0.84       469\n",
      "\n",
      "    accuracy                           0.77      1158\n",
      "   macro avg       0.75      0.75      0.75      1158\n",
      "weighted avg       0.77      0.77      0.77      1158\n",
      "\n",
      "Accuracy for jobSalaryMaxLevel: 0.7659758203799655\n",
      "Classification Report for jobSalaryMinLevel:\n",
      "               precision    recall  f1-score   support\n",
      "\n",
      "           1       0.84      0.86      0.85       543\n",
      "           2       0.63      0.67      0.65       299\n",
      "           3       0.85      0.76      0.80       316\n",
      "\n",
      "    accuracy                           0.79      1158\n",
      "   macro avg       0.77      0.77      0.77      1158\n",
      "weighted avg       0.79      0.79      0.79      1158\n",
      "\n",
      "Accuracy for jobSalaryMinLevel: 0.7858376511226253\n"
     ]
    }
   ],
   "source": [
    "# 预测\n",
    "y_pred_max = rf_max.predict(X_test)\n",
    "y_pred_min = rf_min.predict(X_test)\n",
    "\n",
    "# 输出分类报告和准确率\n",
    "print(\"Classification Report for jobSalaryMaxLevel:\\n\", classification_report(y_test_max, y_pred_max))\n",
    "print(\"Accuracy for jobSalaryMaxLevel:\", accuracy_score(y_test_max, y_pred_max))\n",
    "print(\"Classification Report for jobSalaryMinLevel:\\n\", classification_report(y_test_min, y_pred_min))\n",
    "print(\"Accuracy for jobSalaryMinLevel:\", accuracy_score(y_test_min, y_pred_min))"
   ]
  }
 ],
 "metadata": {
  "kernelspec": {
   "display_name": "ml_expr",
   "language": "python",
   "name": "python3"
  },
  "language_info": {
   "codemirror_mode": {
    "name": "ipython",
    "version": 3
   },
   "file_extension": ".py",
   "mimetype": "text/x-python",
   "name": "python",
   "nbconvert_exporter": "python",
   "pygments_lexer": "ipython3",
   "version": "3.8.18"
  }
 },
 "nbformat": 4,
 "nbformat_minor": 2
}
